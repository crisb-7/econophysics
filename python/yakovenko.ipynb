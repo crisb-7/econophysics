{
 "cells": [
  {
   "cell_type": "markdown",
   "metadata": {},
   "source": [
    "# Yakovenko Simulation\n",
    "\n",
    "This is a rough-draft notebook to **remember** the Matlab implementation to properly translate it to Python."
   ]
  },
  {
   "cell_type": "code",
   "execution_count": 1,
   "metadata": {},
   "outputs": [],
   "source": [
    "import numpy as np"
   ]
  },
  {
   "cell_type": "code",
   "execution_count": 46,
   "metadata": {},
   "outputs": [],
   "source": [
    "N = 1000    # Population\n",
    "M = 1e5     # Total sum of money in the system\n",
    "C = 50      # Number of income classes\n",
    "\n",
    "# Maximum amount of money an agent can have\n",
    "MMAX = (M/(np.sum(np.arange(C))*(N/C))*C)*2\n",
    "\n",
    "CLASS = np.linspace(0, MMAX, C)\n",
    "T = 1000        \n",
    "Ci = len(CLASS)\n",
    "dm = M*4e-5\n",
    "lambda_ = 0\n",
    "tau = 30\n",
    "a = 1/300\n",
    "\n",
    "bin_centers = 0.5*(CLASS[1:] + CLASS[0:-1])\n",
    "Mk_vec = np.linspace(0, MMAX, N)\n",
    "\n",
    "iva = 0\n",
    "delta_distrib = np.ones((N,))*(M/N)\n",
    "Sdelta = np.zeros((T,))\n",
    "\n",
    "OcaD = [None]*T\n",
    "OcbD = [None]*T\n",
    "B = [None]*T"
   ]
  },
  {
   "cell_type": "code",
   "execution_count": 49,
   "metadata": {},
   "outputs": [],
   "source": [
    "for t in range(T):\n",
    "    \n",
    "    # histogram visualization used to go here\n",
    "    if t % tau == 0:\n",
    "        delta_distrib = delta_distrib + iva/N\n",
    "        iva = 0\n",
    "\n",
    "    for j in range(N):\n",
    "        l = np.random.randint(N)\n",
    "        s = np.sign(2*np.random.rand()-1)\n",
    "        \n",
    "        if (delta_distrib[j] + dm*s < 0) or delta_distrib[l] - dm*s < 0:\n",
    "            continue\n",
    "        elif s > 0:\n",
    "            delta_distrib[j] = delta_distrib[j] + dm*(1-lambda_)\n",
    "            delta_distrib[l] = delta_distrib[l] - dm\n",
    "            iva = iva + dm*lambda_\n",
    "        else:\n",
    "            delta_distrib[j] = delta_distrib[j] - dm\n",
    "            delta_distrib[l] = delta_distrib[l] + dm*(1-lambda_)\n",
    "            iva = iva + dm*lambda_\n",
    "    \n",
    "    # Create histogram for money distribution\n",
    "    hist, bin_edges = np.histogram(delta_distrib, bins=CLASS)\n",
    "\n",
    "    Sdelta[t] = N*np.log(N) - np.sum(hist*np.log(hist, where=(hist>0)))\n",
    "\n",
    "    # Well being functions\n",
    "    OcaD[t] = sum(a*bin_centers*hist)\n",
    "    OcbD[t] = sum(hist*(1-np.exp(-a*bin_centers)))\n",
    "    \n",
    "    VEm = 0\n",
    "    for u in range(C-1):\n",
    "        VEm = VEm + bin_centers[u]*hist[u]/N\n",
    "    B[t] = VEm\n",
    "    VEm = 0"
   ]
  }
 ],
 "metadata": {
  "kernelspec": {
   "display_name": "jupyter",
   "language": "python",
   "name": "python3"
  },
  "language_info": {
   "codemirror_mode": {
    "name": "ipython",
    "version": 3
   },
   "file_extension": ".py",
   "mimetype": "text/x-python",
   "name": "python",
   "nbconvert_exporter": "python",
   "pygments_lexer": "ipython3",
   "version": "3.11.3"
  }
 },
 "nbformat": 4,
 "nbformat_minor": 2
}
